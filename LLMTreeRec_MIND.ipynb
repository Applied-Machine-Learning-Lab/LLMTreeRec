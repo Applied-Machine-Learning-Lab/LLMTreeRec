{
 "cells": [
  {
   "cell_type": "code",
   "execution_count": 7,
   "metadata": {
    "colab": {
     "base_uri": "https://localhost:8080/",
     "height": 379
    },
    "executionInfo": {
     "elapsed": 2726,
     "status": "ok",
     "timestamp": 1692611833000,
     "user": {
      "displayName": "wenlin zhang",
      "userId": "05494640049948176027"
     },
     "user_tz": -480
    },
    "id": "QQm7RMif1pOX",
    "outputId": "0cd373e7-8a66-4742-ce1d-c887f3b72813",
    "ExecuteTime": {
     "end_time": "2023-12-12T15:23:23.666411100Z",
     "start_time": "2023-12-12T15:23:23.354036100Z"
    }
   },
   "outputs": [
    {
     "data": {
      "text/plain": "   NewsID   Category      Subcategory  \\\n0  N55528  lifestyle  lifestyleroyals   \n1  N18955     health          medical   \n2  N61837       news        newsworld   \n3  N53526     health           voices   \n4  N38324     health          medical   \n\n                                           NewsTitle  \\\n0  The Brands Queen Elizabeth, Prince Charles, an...   \n1  Dispose of unwanted prescription drugs during ...   \n2  The Cost of Trump's Aid Freeze in the Trenches...   \n3  I Was An NBA Wife. Here's How It Affected My M...   \n4  How to Get Rid of Skin Tags, According to a De...   \n\n                                         NewsAbstrct  \\\n0  Shop the notebooks, jackets, and more that the...   \n1                                                NaN   \n2  Lt. Ivan Molchanets peeked over a parapet of s...   \n3  I felt like I was a fraud, and being an NBA wi...   \n4  They seem harmless, but there's a very good re...   \n\n                                         NewsUrl  \\\n0  https://assets.msn.com/labs/mind/AAGH0ET.html   \n1  https://assets.msn.com/labs/mind/AAISxPN.html   \n2  https://assets.msn.com/labs/mind/AAJgNsz.html   \n3  https://assets.msn.com/labs/mind/AACk2N6.html   \n4  https://assets.msn.com/labs/mind/AAAKEkt.html   \n\n                                 EntitiesinNewsTitle  \\\n0  [{\"Label\": \"Prince Philip, Duke of Edinburgh\",...   \n1  [{\"Label\": \"Drug Enforcement Administration\", ...   \n2                                                 []   \n3                                                 []   \n4  [{\"Label\": \"Skin tag\", \"Type\": \"C\", \"WikidataI...   \n\n                              EntitiesinNewsAbstract  \n0                                                 []  \n1                                                 []  \n2  [{\"Label\": \"Ukraine\", \"Type\": \"G\", \"WikidataId...  \n3  [{\"Label\": \"National Basketball Association\", ...  \n4  [{\"Label\": \"Skin tag\", \"Type\": \"C\", \"WikidataI...  ",
      "text/html": "<div>\n<style scoped>\n    .dataframe tbody tr th:only-of-type {\n        vertical-align: middle;\n    }\n\n    .dataframe tbody tr th {\n        vertical-align: top;\n    }\n\n    .dataframe thead th {\n        text-align: right;\n    }\n</style>\n<table border=\"1\" class=\"dataframe\">\n  <thead>\n    <tr style=\"text-align: right;\">\n      <th></th>\n      <th>NewsID</th>\n      <th>Category</th>\n      <th>Subcategory</th>\n      <th>NewsTitle</th>\n      <th>NewsAbstrct</th>\n      <th>NewsUrl</th>\n      <th>EntitiesinNewsTitle</th>\n      <th>EntitiesinNewsAbstract</th>\n    </tr>\n  </thead>\n  <tbody>\n    <tr>\n      <th>0</th>\n      <td>N55528</td>\n      <td>lifestyle</td>\n      <td>lifestyleroyals</td>\n      <td>The Brands Queen Elizabeth, Prince Charles, an...</td>\n      <td>Shop the notebooks, jackets, and more that the...</td>\n      <td>https://assets.msn.com/labs/mind/AAGH0ET.html</td>\n      <td>[{\"Label\": \"Prince Philip, Duke of Edinburgh\",...</td>\n      <td>[]</td>\n    </tr>\n    <tr>\n      <th>1</th>\n      <td>N18955</td>\n      <td>health</td>\n      <td>medical</td>\n      <td>Dispose of unwanted prescription drugs during ...</td>\n      <td>NaN</td>\n      <td>https://assets.msn.com/labs/mind/AAISxPN.html</td>\n      <td>[{\"Label\": \"Drug Enforcement Administration\", ...</td>\n      <td>[]</td>\n    </tr>\n    <tr>\n      <th>2</th>\n      <td>N61837</td>\n      <td>news</td>\n      <td>newsworld</td>\n      <td>The Cost of Trump's Aid Freeze in the Trenches...</td>\n      <td>Lt. Ivan Molchanets peeked over a parapet of s...</td>\n      <td>https://assets.msn.com/labs/mind/AAJgNsz.html</td>\n      <td>[]</td>\n      <td>[{\"Label\": \"Ukraine\", \"Type\": \"G\", \"WikidataId...</td>\n    </tr>\n    <tr>\n      <th>3</th>\n      <td>N53526</td>\n      <td>health</td>\n      <td>voices</td>\n      <td>I Was An NBA Wife. Here's How It Affected My M...</td>\n      <td>I felt like I was a fraud, and being an NBA wi...</td>\n      <td>https://assets.msn.com/labs/mind/AACk2N6.html</td>\n      <td>[]</td>\n      <td>[{\"Label\": \"National Basketball Association\", ...</td>\n    </tr>\n    <tr>\n      <th>4</th>\n      <td>N38324</td>\n      <td>health</td>\n      <td>medical</td>\n      <td>How to Get Rid of Skin Tags, According to a De...</td>\n      <td>They seem harmless, but there's a very good re...</td>\n      <td>https://assets.msn.com/labs/mind/AAAKEkt.html</td>\n      <td>[{\"Label\": \"Skin tag\", \"Type\": \"C\", \"WikidataI...</td>\n      <td>[{\"Label\": \"Skin tag\", \"Type\": \"C\", \"WikidataI...</td>\n    </tr>\n  </tbody>\n</table>\n</div>"
     },
     "execution_count": 7,
     "metadata": {},
     "output_type": "execute_result"
    }
   ],
   "source": [
    "import pandas as pd\n",
    "# data_path = 'MINDlarge_train'\n",
    "data_path = './data/MINDsmall_dev'\n",
    "\n",
    "name_list = [\"NewsID\", \"Category\", \"Subcategory\", \"NewsTitle\", \"NewsAbstrct\", \"NewsUrl\", \"EntitiesinNewsTitle\", \"EntitiesinNewsAbstract\"]\n",
    "df = pd.read_csv(data_path + '/news.tsv', sep='\\t', names=name_list)\n",
    "df.head()"
   ]
  },
  {
   "cell_type": "code",
   "execution_count": 8,
   "metadata": {
    "colab": {
     "base_uri": "https://localhost:8080/"
    },
    "executionInfo": {
     "elapsed": 11,
     "status": "ok",
     "timestamp": 1692611833001,
     "user": {
      "displayName": "wenlin zhang",
      "userId": "05494640049948176027"
     },
     "user_tz": -480
    },
    "id": "8Naf6Tkh4aew",
    "outputId": "486f4037-29cc-41c9-b4b3-e55e581e5233",
    "ExecuteTime": {
     "end_time": "2023-12-12T15:23:23.896259900Z",
     "start_time": "2023-12-12T15:23:23.864145400Z"
    }
   },
   "outputs": [
    {
     "name": "stdout",
     "output_type": "stream",
     "text": [
      "['lifestyle' 'health' 'news' 'sports' 'weather' 'entertainment'\n",
      " 'foodanddrink' 'autos' 'travel' 'video' 'tv' 'finance' 'movies' 'music'\n",
      " 'kids' 'middleeast' 'games']\n"
     ]
    }
   ],
   "source": [
    "Category_list = df['Category'].unique()\n",
    "print(Category_list)"
   ]
  },
  {
   "cell_type": "code",
   "execution_count": 9,
   "metadata": {
    "colab": {
     "base_uri": "https://localhost:8080/"
    },
    "executionInfo": {
     "elapsed": 10,
     "status": "ok",
     "timestamp": 1692611833002,
     "user": {
      "displayName": "wenlin zhang",
      "userId": "05494640049948176027"
     },
     "user_tz": -480
    },
    "id": "Mu8ISvGY6Usr",
    "outputId": "0d1e4533-2471-4eeb-8e85-1b176f5429a0",
    "ExecuteTime": {
     "end_time": "2023-12-12T15:23:24.177761Z",
     "start_time": "2023-12-12T15:23:24.128952900Z"
    }
   },
   "outputs": [
    {
     "name": "stdout",
     "output_type": "stream",
     "text": [
      "Category: lifestyle\n",
      "Subcategory ['lifestyleroyals' 'lifestylepetsanimals' 'shop-all'\n",
      " 'lifestylemindandsoul' 'lifestyleparenting' 'lifestylebuzz'\n",
      " 'shop-apparel' 'voices' 'lifestyledidyouknow' 'lifestylehoroscope'\n",
      " 'lifestyleshopping' 'lifestylesmartliving' 'lifestylehomeandgarden'\n",
      " 'lifestyledecor' 'causes' 'lifestylepets' 'lifestylecareer'\n",
      " 'shop-holidays' 'lifestylebeauty' 'lifestylefashion'\n",
      " 'lifestylecelebstyle' 'lifestylefamilyandrelationships'\n",
      " 'lifestylelovesex' 'causes-green-living' 'advice' 'lifestylediy'\n",
      " 'shop-home-goods' 'lifestylecleaningandorganizing' 'lifestyleweddings'\n",
      " 'lifestylevideo' 'holidays' 'lifestylefamily' 'lifestylerelationships'\n",
      " 'causes-animals' 'lifestyleanimals' 'lifestyle-wedding'\n",
      " 'pregnancyparenting' 'lifestyle-news-feature'\n",
      " 'shop-computers-electronics' 'lifestyle' 'lifestyletravel'\n",
      " 'lifestylemarriage' 'awardstyle' 'lifestyleshoppinghomegarden' 'travel'\n",
      " 'lifestylehoroscopefish' 'lifestylewhatshot' 'lifestylestyle'\n",
      " 'shop-books-movies-tv' 'relationships']\n",
      "Category: health\n",
      "Subcategory ['medical' 'voices' 'weightloss' 'nutrition' 'wellness' 'health-news'\n",
      " 'mentalhealth' 'fitness' 'ads-lung-health' 'weight-loss' 'causes'\n",
      " 'healthagingwell' 'video' 'pregnancyparenting' 'healthnews' 'recipes'\n",
      " 'healthyliving' 'health-cancer' 'cardio']\n",
      "Category: news\n",
      "Subcategory ['newsworld' 'newsscienceandtechnology' 'newspolitics' 'newsbusiness'\n",
      " 'newsphotos' 'newsopinion' 'newscrime' 'newsus' 'newsgoodnews'\n",
      " 'newsoffbeat' 'newsweather' 'factcheck' 'newsfactcheck' 'personalfinance'\n",
      " 'empowering-the-planet' 'causes' 'elections-2020-us' 'causes-poverty'\n",
      " 'newsscience' 'causes-environment' 'newstvmedia' 'narendramodi_opinion'\n",
      " 'newsnational' 'newsworldpolitics' 'yearinoffbeatgoodnews'\n",
      " 'newsrealestate' 'newsvideo' 'newsother' 'causes-disaster-relief'\n",
      " 'causes-military-appreciation' 'newsvideos' 'indepth' 'newstechnology'\n",
      " 'newselection2020']\n",
      "Category: sports\n",
      "Subcategory ['football_nfl' 'more_sports' 'golf' 'football_ncaa' 'basketball_nba'\n",
      " 'basketball_ncaa' 'baseball_mlb' 'soccer_epl' 'tennis' 'mma' 'racing'\n",
      " 'soccer' 'football_nfl_videos' 'outdoors' 'baseball_mlb_videos'\n",
      " 'football_ncaa_videos' 'icehockey_nhl' 'boxing-mma' 'boxing'\n",
      " 'basketball_ncaa_videos' 'golfvideos' 'sports_news' 'soccer_mls'\n",
      " 'basketball_nba_videos' 'basketball_wnba' 'mmaufc' 'othersports'\n",
      " 'baseball']\n",
      "Category: weather\n",
      "Subcategory ['weathertopstories' 'photos' 'weatherfullscreenmaps']\n",
      "Category: entertainment\n",
      "Subcategory ['gaming' 'celebrity' 'entertainment-celebrity' 'entertainment-books'\n",
      " 'humor' 'hollywood' 'video' 'games' 'celebritynews' 'news' 'awards' 'tv'\n",
      " 'celebhub']\n",
      "Category: foodanddrink\n",
      "Subcategory ['recipes' 'newstrends' 'quickandeasy' 'tipsandtricks'\n",
      " 'restaurantsandnews' 'videos' 'foodnews' 'beverages' 'foodrecipes'\n",
      " 'seasonal' 'causes-food-insecurity' 'cocktails' 'cookingschool' 'cooking'\n",
      " 'wines' 'foodtips']\n",
      "Category: autos\n",
      "Subcategory ['autosenthusiasts' 'autossuvs' 'autosnews' 'autosbuying' 'autostrucks'\n",
      " 'autosclassics' 'autosluxury' 'autosresearchguides' 'autossports'\n",
      " 'autospassenger' 'autossema' 'autosmotorcycles' 'autosownership'\n",
      " 'autosreview' 'autosvideonew' 'autoscartech' 'autoshybrids' 'autostokyo'\n",
      " 'autosresearch' 'autoscompact' 'autosvans' 'autosvideos' 'autosmidsize'\n",
      " 'autoslosangeles']\n",
      "Category: travel\n",
      "Subcategory ['travelarticle' 'traveltripideas' 'travelnews' 'traveltips'\n",
      " 'travel-videos' 'travel-points-rewards' 'video' 'newstrends'\n",
      " 'travel-adventure-travel' 'holidays' 'voices' 'ustravel'\n",
      " 'internationaltravel' 'traveltrivia']\n",
      "Category: video\n",
      "Subcategory ['animals' 'news' 'viral' 'popculture' 'science' 'lifestyle'\n",
      " 'peopleandplaces' 'tunedin' 'downtime' 'comedy' 'sports' 'wonder']\n",
      "Category: tv\n",
      "Subcategory ['tv-gallery' 'tv-celebrity' 'tvnews' 'humor' 'tv-recaps' 'tvvideos'\n",
      " 'tv-reviews' 'tv-golden-globes' 'topnews' 'tv-golden-globes-video']\n",
      "Category: finance\n",
      "Subcategory ['finance-real-estate' 'finance-saving-investing' 'finance-taxes'\n",
      " 'finance-companies' 'finance-savemoney' 'retirement' 'finance-top-stocks'\n",
      " 'personalfinance' 'finance-career' 'markets' 'finance-retirement'\n",
      " 'finance-career-education' 'finance-billstopay' 'financenews'\n",
      " 'finance-credit' 'finance-small-business' 'finance-video'\n",
      " 'finance-technology' 'finance-home-loans' 'technologyinvesting'\n",
      " 'finance-insurance' 'career-news' 'finance-education'\n",
      " 'finance-healthcare' 'finance-homesandpropertysection' 'company-news'\n",
      " 'finance-mutual-funds' 'causes' 'finance-auto-insurance'\n",
      " 'finance-startinvesting']\n",
      "Category: movies\n",
      "Subcategory ['movies-gallery' 'movievideo' 'movies-celebrity' 'movienews'\n",
      " 'movies-oscars' 'reviews' 'movies-awards']\n",
      "Category: music\n",
      "Subcategory ['musicnews' 'music-gallery' 'musicvideos' 'music-celebrity'\n",
      " 'music-awards' 'music-grammys' 'ads-latingrammys' 'cma-awards' 'topnews'\n",
      " 'humor']\n",
      "Category: kids\n",
      "Subcategory ['fun' 'animals' 'video' 'people-places']\n",
      "Category: middleeast\n",
      "Subcategory ['middleeast-top-stories']\n",
      "Category: games\n",
      "Subcategory ['games-news']\n",
      "276\n"
     ]
    }
   ],
   "source": [
    "Category_dict = {}\n",
    "subcategory_num = 0\n",
    "for cate in Category_list:\n",
    "  subcategory = df[df['Category'] == cate]['Subcategory'].unique()\n",
    "  Category_dict[cate] = subcategory\n",
    "  subcategory_num += len(subcategory)\n",
    "  print('Category:', cate)\n",
    "  print('Subcategory', subcategory)\n",
    "\n",
    "print(subcategory_num)"
   ]
  },
  {
   "cell_type": "code",
   "execution_count": 10,
   "metadata": {
    "colab": {
     "base_uri": "https://localhost:8080/"
    },
    "executionInfo": {
     "elapsed": 3597,
     "status": "ok",
     "timestamp": 1692611836593,
     "user": {
      "displayName": "wenlin zhang",
      "userId": "05494640049948176027"
     },
     "user_tz": -480
    },
    "id": "20YAMMEe7mNo",
    "outputId": "bbdf115e-64d1-4719-9bee-6ee40907c480",
    "ExecuteTime": {
     "end_time": "2023-12-12T15:23:24.847928200Z",
     "start_time": "2023-12-12T15:23:24.338892400Z"
    }
   },
   "outputs": [
    {
     "name": "stdout",
     "output_type": "stream",
     "text": [
      "lifestyleroyals: 232\n",
      "lifestylepetsanimals: 66\n",
      "shop-all: 29\n",
      "lifestylemindandsoul: 27\n",
      "lifestyleparenting: 27\n",
      "lifestylebuzz: 657\n",
      "shop-apparel: 13\n",
      "voices: 131\n",
      "lifestyledidyouknow: 95\n",
      "lifestylehoroscope: 53\n",
      "lifestyleshopping: 11\n",
      "lifestylesmartliving: 46\n",
      "lifestylehomeandgarden: 173\n",
      "lifestyledecor: 11\n",
      "causes: 17\n",
      "lifestylepets: 67\n",
      "lifestylecareer: 28\n",
      "shop-holidays: 99\n",
      "lifestylebeauty: 27\n",
      "lifestylefashion: 14\n",
      "lifestylecelebstyle: 50\n",
      "lifestylefamilyandrelationships: 29\n",
      "lifestylelovesex: 14\n",
      "causes-green-living: 8\n",
      "advice: 23\n",
      "lifestylediy: 14\n",
      "shop-home-goods: 3\n",
      "lifestylecleaningandorganizing: 23\n",
      "lifestyleweddings: 14\n",
      "lifestylevideo: 16\n",
      "holidays: 3\n",
      "lifestylefamily: 105\n",
      "lifestylerelationships: 30\n",
      "causes-animals: 7\n",
      "lifestyleanimals: 1\n",
      "lifestyle-wedding: 1\n",
      "pregnancyparenting: 8\n",
      "lifestyle-news-feature: 14\n",
      "shop-computers-electronics: 1\n",
      "lifestyle: 105\n",
      "lifestyletravel: 1\n",
      "lifestylemarriage: 3\n",
      "awardstyle: 8\n",
      "lifestyleshoppinghomegarden: 1\n",
      "travel: 1\n",
      "lifestylehoroscopefish: 1\n",
      "lifestylewhatshot: 2\n",
      "lifestylestyle: 1\n",
      "shop-books-movies-tv: 2\n",
      "relationships: 1\n",
      "medical: 403\n",
      "voices: 131\n",
      "weightloss: 124\n",
      "nutrition: 223\n",
      "wellness: 298\n",
      "health-news: 440\n",
      "mentalhealth: 6\n",
      "fitness: 102\n",
      "ads-lung-health: 7\n",
      "weight-loss: 6\n",
      "causes: 17\n",
      "healthagingwell: 2\n",
      "video: 86\n",
      "pregnancyparenting: 8\n",
      "healthnews: 30\n",
      "recipes: 418\n",
      "healthyliving: 1\n",
      "health-cancer: 1\n",
      "cardio: 1\n",
      "newsworld: 1525\n",
      "newsscienceandtechnology: 971\n",
      "newspolitics: 2398\n",
      "newsbusiness: 49\n",
      "newsphotos: 20\n",
      "newsopinion: 305\n",
      "newscrime: 1797\n",
      "newsus: 5335\n",
      "newsgoodnews: 179\n",
      "newsoffbeat: 285\n",
      "newsweather: 10\n",
      "factcheck: 41\n",
      "newsfactcheck: 18\n",
      "personalfinance: 109\n",
      "empowering-the-planet: 1\n",
      "causes: 17\n",
      "elections-2020-us: 66\n",
      "causes-poverty: 1\n",
      "newsscience: 14\n",
      "causes-environment: 2\n",
      "newstvmedia: 1\n",
      "narendramodi_opinion: 1\n",
      "newsnational: 1\n",
      "newsworldpolitics: 4\n",
      "yearinoffbeatgoodnews: 2\n",
      "newsrealestate: 1\n",
      "newsvideo: 2\n",
      "newsother: 1\n",
      "causes-disaster-relief: 3\n",
      "causes-military-appreciation: 1\n",
      "newsvideos: 1\n",
      "indepth: 1\n",
      "newstechnology: 1\n",
      "newselection2020: 1\n",
      "football_nfl: 4747\n",
      "more_sports: 741\n",
      "golf: 397\n",
      "football_ncaa: 1271\n",
      "basketball_nba: 1221\n",
      "basketball_ncaa: 454\n",
      "baseball_mlb: 1502\n",
      "soccer_epl: 13\n",
      "tennis: 98\n",
      "mma: 349\n",
      "racing: 240\n",
      "soccer: 100\n",
      "football_nfl_videos: 137\n",
      "outdoors: 29\n",
      "baseball_mlb_videos: 37\n",
      "football_ncaa_videos: 33\n",
      "icehockey_nhl: 334\n",
      "boxing-mma: 7\n",
      "boxing: 11\n",
      "basketball_ncaa_videos: 9\n",
      "golfvideos: 1\n",
      "sports_news: 2\n",
      "soccer_mls: 12\n",
      "basketball_nba_videos: 8\n",
      "basketball_wnba: 4\n",
      "mmaufc: 1\n",
      "othersports: 1\n",
      "baseball: 1\n",
      "weathertopstories: 1460\n",
      "photos: 1\n",
      "weatherfullscreenmaps: 1\n",
      "gaming: 117\n",
      "celebrity: 142\n",
      "entertainment-celebrity: 126\n",
      "entertainment-books: 110\n",
      "humor: 26\n",
      "hollywood: 1\n",
      "video: 86\n",
      "games: 1\n",
      "celebritynews: 2\n",
      "news: 786\n",
      "awards: 9\n",
      "tv: 1\n",
      "celebhub: 1\n",
      "recipes: 418\n",
      "newstrends: 945\n",
      "quickandeasy: 39\n",
      "tipsandtricks: 246\n",
      "restaurantsandnews: 171\n",
      "videos: 87\n",
      "foodnews: 261\n",
      "beverages: 64\n",
      "foodrecipes: 3\n",
      "seasonal: 2\n",
      "causes-food-insecurity: 4\n",
      "cocktails: 2\n",
      "cookingschool: 1\n",
      "cooking: 1\n",
      "wines: 6\n",
      "foodtips: 1\n",
      "autosenthusiasts: 239\n",
      "autossuvs: 61\n",
      "autosnews: 725\n",
      "autosbuying: 28\n",
      "autostrucks: 31\n",
      "autosclassics: 115\n",
      "autosluxury: 22\n",
      "autosresearchguides: 14\n",
      "autossports: 63\n",
      "autospassenger: 5\n",
      "autossema: 16\n",
      "autosmotorcycles: 100\n",
      "autosownership: 26\n",
      "autosreview: 3\n",
      "autosvideonew: 5\n",
      "autoscartech: 2\n",
      "autoshybrids: 6\n",
      "autostokyo: 6\n",
      "autosresearch: 16\n",
      "autoscompact: 1\n",
      "autosvans: 1\n",
      "autosvideos: 3\n",
      "autosmidsize: 1\n",
      "autoslosangeles: 1\n",
      "travelarticle: 695\n",
      "traveltripideas: 239\n",
      "travelnews: 754\n",
      "traveltips: 71\n",
      "travel-videos: 1\n",
      "travel-points-rewards: 11\n",
      "video: 86\n",
      "newstrends: 945\n",
      "travel-adventure-travel: 3\n",
      "holidays: 3\n",
      "voices: 131\n",
      "ustravel: 7\n",
      "internationaltravel: 6\n",
      "traveltrivia: 1\n",
      "animals: 245\n",
      "news: 786\n",
      "viral: 212\n",
      "popculture: 79\n",
      "science: 123\n",
      "lifestyle: 105\n",
      "peopleandplaces: 54\n",
      "tunedin: 5\n",
      "downtime: 2\n",
      "comedy: 1\n",
      "sports: 1\n",
      "wonder: 1\n",
      "tv-gallery: 81\n",
      "tv-celebrity: 336\n",
      "tvnews: 328\n",
      "humor: 26\n",
      "tv-recaps: 14\n",
      "tvvideos: 41\n",
      "tv-reviews: 2\n",
      "tv-golden-globes: 2\n",
      "topnews: 2\n",
      "tv-golden-globes-video: 1\n",
      "finance-real-estate: 480\n",
      "finance-saving-investing: 63\n",
      "finance-taxes: 35\n",
      "finance-companies: 504\n",
      "finance-savemoney: 65\n",
      "retirement: 9\n",
      "finance-top-stocks: 99\n",
      "personalfinance: 109\n",
      "finance-career: 15\n",
      "markets: 376\n",
      "finance-retirement: 72\n",
      "finance-career-education: 72\n",
      "finance-billstopay: 12\n",
      "financenews: 486\n",
      "finance-credit: 17\n",
      "finance-small-business: 12\n",
      "finance-video: 73\n",
      "finance-technology: 14\n",
      "finance-home-loans: 1\n",
      "technologyinvesting: 2\n",
      "finance-insurance: 14\n",
      "career-news: 3\n",
      "finance-education: 11\n",
      "finance-healthcare: 12\n",
      "finance-homesandpropertysection: 1\n",
      "company-news: 1\n",
      "finance-mutual-funds: 3\n",
      "causes: 17\n",
      "finance-auto-insurance: 1\n",
      "finance-startinvesting: 1\n",
      "movies-gallery: 65\n",
      "movievideo: 73\n",
      "movies-celebrity: 197\n",
      "movienews: 185\n",
      "movies-oscars: 5\n",
      "reviews: 2\n",
      "movies-awards: 11\n",
      "musicnews: 293\n",
      "music-gallery: 52\n",
      "musicvideos: 17\n",
      "music-celebrity: 196\n",
      "music-awards: 25\n",
      "music-grammys: 4\n",
      "ads-latingrammys: 8\n",
      "cma-awards: 28\n",
      "topnews: 2\n",
      "humor: 26\n",
      "fun: 2\n",
      "animals: 245\n",
      "video: 86\n",
      "people-places: 3\n",
      "middleeast-top-stories: 2\n",
      "games-news: 1\n",
      "Maximum_length 5335\n"
     ]
    }
   ],
   "source": [
    "temp = 0\n",
    "for cate in Category_list:\n",
    "  subcategory_list = Category_dict[cate]\n",
    "  for subcate in subcategory_list:\n",
    "    nums = df[df['Subcategory'] == subcate].count()['NewsID']\n",
    "    print('{}: {}'.format(subcate, nums))\n",
    "    temp = max(temp, int(nums))\n",
    "\n",
    "print('Maximum_length', temp)"
   ]
  },
  {
   "cell_type": "code",
   "execution_count": 11,
   "metadata": {
    "colab": {
     "base_uri": "https://localhost:8080/",
     "height": 206
    },
    "executionInfo": {
     "elapsed": 1959,
     "status": "ok",
     "timestamp": 1692611838550,
     "user": {
      "displayName": "wenlin zhang",
      "userId": "05494640049948176027"
     },
     "user_tz": -480
    },
    "id": "ja_tYaVoCBkC",
    "outputId": "26bf27e9-780d-461c-c932-bd15edf1a594",
    "ExecuteTime": {
     "end_time": "2023-12-12T15:23:25.194075Z",
     "start_time": "2023-12-12T15:23:24.847928200Z"
    }
   },
   "outputs": [
    {
     "data": {
      "text/plain": "   Impression ID User ID         Impression Time  \\\n0              1  U80234  11/15/2019 12:37:50 PM   \n1              2  U60458   11/15/2019 7:11:50 AM   \n2              3  U44190   11/15/2019 9:55:12 AM   \n3              4  U87380   11/15/2019 3:12:46 PM   \n4              5   U9444   11/15/2019 8:25:46 AM   \n\n                                  User Click History  \\\n0  N55189 N46039 N51741 N53234 N11276 N264 N40716...   \n1  N58715 N32109 N51180 N33438 N54827 N28488 N611...   \n2  N56253 N1150 N55189 N16233 N61704 N51706 N5303...   \n3  N63554 N49153 N28678 N23232 N43369 N58518 N444...   \n4                 N51692 N18285 N26015 N22679 N55556   \n\n                                     Impression News  \n0  N28682-0 N48740-0 N31958-1 N34130-0 N6916-0 N5...  \n1  N20036-0 N23513-1 N32536-0 N46976-0 N35216-0 N...  \n2  N36779-0 N62365-0 N58098-0 N5472-0 N13408-0 N5...  \n3  N6950-0 N60215-0 N6074-0 N11930-0 N6916-0 N248...  \n4  N5940-1 N23513-0 N49285-0 N23355-0 N19990-0 N3...  ",
      "text/html": "<div>\n<style scoped>\n    .dataframe tbody tr th:only-of-type {\n        vertical-align: middle;\n    }\n\n    .dataframe tbody tr th {\n        vertical-align: top;\n    }\n\n    .dataframe thead th {\n        text-align: right;\n    }\n</style>\n<table border=\"1\" class=\"dataframe\">\n  <thead>\n    <tr style=\"text-align: right;\">\n      <th></th>\n      <th>Impression ID</th>\n      <th>User ID</th>\n      <th>Impression Time</th>\n      <th>User Click History</th>\n      <th>Impression News</th>\n    </tr>\n  </thead>\n  <tbody>\n    <tr>\n      <th>0</th>\n      <td>1</td>\n      <td>U80234</td>\n      <td>11/15/2019 12:37:50 PM</td>\n      <td>N55189 N46039 N51741 N53234 N11276 N264 N40716...</td>\n      <td>N28682-0 N48740-0 N31958-1 N34130-0 N6916-0 N5...</td>\n    </tr>\n    <tr>\n      <th>1</th>\n      <td>2</td>\n      <td>U60458</td>\n      <td>11/15/2019 7:11:50 AM</td>\n      <td>N58715 N32109 N51180 N33438 N54827 N28488 N611...</td>\n      <td>N20036-0 N23513-1 N32536-0 N46976-0 N35216-0 N...</td>\n    </tr>\n    <tr>\n      <th>2</th>\n      <td>3</td>\n      <td>U44190</td>\n      <td>11/15/2019 9:55:12 AM</td>\n      <td>N56253 N1150 N55189 N16233 N61704 N51706 N5303...</td>\n      <td>N36779-0 N62365-0 N58098-0 N5472-0 N13408-0 N5...</td>\n    </tr>\n    <tr>\n      <th>3</th>\n      <td>4</td>\n      <td>U87380</td>\n      <td>11/15/2019 3:12:46 PM</td>\n      <td>N63554 N49153 N28678 N23232 N43369 N58518 N444...</td>\n      <td>N6950-0 N60215-0 N6074-0 N11930-0 N6916-0 N248...</td>\n    </tr>\n    <tr>\n      <th>4</th>\n      <td>5</td>\n      <td>U9444</td>\n      <td>11/15/2019 8:25:46 AM</td>\n      <td>N51692 N18285 N26015 N22679 N55556</td>\n      <td>N5940-1 N23513-0 N49285-0 N23355-0 N19990-0 N3...</td>\n    </tr>\n  </tbody>\n</table>\n</div>"
     },
     "execution_count": 11,
     "metadata": {},
     "output_type": "execute_result"
    }
   ],
   "source": [
    "import pandas as pd\n",
    "col_list = [\"Impression ID\", \"User ID\", \"Impression Time\", \"User Click History\", \"Impression News\"]\n",
    "user_behavior = pd.read_csv(data_path + '/behaviors.tsv', sep='\\t', names=col_list)\n",
    "user_behavior.head()"
   ]
  },
  {
   "cell_type": "code",
   "execution_count": 12,
   "metadata": {
    "colab": {
     "base_uri": "https://localhost:8080/"
    },
    "executionInfo": {
     "elapsed": 2922,
     "status": "ok",
     "timestamp": 1692611841469,
     "user": {
      "displayName": "wenlin zhang",
      "userId": "05494640049948176027"
     },
     "user_tz": -480
    },
    "id": "jcKxyAN1mVaC",
    "outputId": "c842dc64-978b-4ddf-f9c4-18efbfb6120c",
    "ExecuteTime": {
     "end_time": "2023-12-12T15:23:25.938735400Z",
     "start_time": "2023-12-12T15:23:25.240185600Z"
    }
   },
   "outputs": [
    {
     "name": "stdout",
     "output_type": "stream",
     "text": [
      "5369\n"
     ]
    }
   ],
   "source": [
    "sum = 0\n",
    "news_set = set()\n",
    "for impression in user_behavior[\"Impression News\"]:\n",
    "  impression_list = impression.split(' ')\n",
    "  for item in impression_list:\n",
    "    news_ID, label = item.split('-')\n",
    "    news_set.add(news_ID)\n",
    "\n",
    "print(len(news_set))"
   ]
  },
  {
   "cell_type": "code",
   "execution_count": 13,
   "metadata": {
    "colab": {
     "base_uri": "https://localhost:8080/"
    },
    "executionInfo": {
     "elapsed": 2336,
     "status": "ok",
     "timestamp": 1692611843802,
     "user": {
      "displayName": "wenlin zhang",
      "userId": "05494640049948176027"
     },
     "user_tz": -480
    },
    "id": "7_YlYYCBGPfX",
    "outputId": "f1b40dea-7d62-414a-d816-f46d158fc354",
    "ExecuteTime": {
     "end_time": "2023-12-12T15:23:26.421917800Z",
     "start_time": "2023-12-12T15:23:26.070534Z"
    }
   },
   "outputs": [
    {
     "name": "stdout",
     "output_type": "stream",
     "text": [
      "(73152, 6)\n"
     ]
    }
   ],
   "source": [
    "def cal_len(s):\n",
    "  s = str(s)\n",
    "  return len(s.split(' '))\n",
    "\n",
    "user_behavior['User Click Length'] = user_behavior.apply(lambda x: cal_len(x['User Click History']), axis=1)\n",
    "print(user_behavior.shape)"
   ]
  },
  {
   "cell_type": "code",
   "execution_count": 14,
   "outputs": [],
   "source": [
    "user_sampled = user_behavior.sample(n=500, random_state=2)"
   ],
   "metadata": {
    "collapsed": false,
    "ExecuteTime": {
     "end_time": "2023-12-12T15:23:26.568012100Z",
     "start_time": "2023-12-12T15:23:26.547263600Z"
    }
   }
  },
  {
   "cell_type": "code",
   "execution_count": 15,
   "metadata": {
    "colab": {
     "base_uri": "https://localhost:8080/"
    },
    "executionInfo": {
     "elapsed": 366989,
     "status": "ok",
     "timestamp": 1692612210787,
     "user": {
      "displayName": "wenlin zhang",
      "userId": "05494640049948176027"
     },
     "user_tz": -480
    },
    "id": "YsQWbWmTgkrc",
    "outputId": "5cd90531-2e95-4d33-ca73-679b81916433",
    "ExecuteTime": {
     "end_time": "2023-12-12T15:25:30.539800900Z",
     "start_time": "2023-12-12T15:23:28.321579700Z"
    }
   },
   "outputs": [
    {
     "name": "stdout",
     "output_type": "stream",
     "text": [
      "defaultdict(<class 'set'>, {'lifestyleroyals': {('N61811', \"Archie's Photo Album: Prince Harry, Duchess Meghan's Royal Baby\"), ('N9284', 'Prince Harry and Prince William\\'s Rift Is \"One of the Main Reasons\" the Sussexes Are Skipping Royal Christmas'), ('N32567', \"See Princess Sofia of Sweden's Unexpected Green Leopard Print Dress   Complete with Tiara!\"), ('N59933', 'Kate Middleton Took Public Transit to Her Royal Engagement Today'), ('N5940', 'Meghan Markle and Hillary Clinton Secretly Spent the Afternoon Together at Frogmore Cottage'), ('N39683', 'Prince Charles just turned 71   here are the best photos from every year of his royal career so far'), ('N56969', \"Meghan Markle's Lawyers Debunk Multiple False Tabloid Stories in New Court Documents\"), ('N57560', \"Kate Middleton Shows Off Motherly Side as She Bonds with Families at Opening of Children's Hospice\"), ('N35216', 'Queen Elizabeth Just Rode Horseback at Age 93')}, 'newsworld': {('N16854', 'How the US betrayed the Marshall Islands, kindling the next nuclear disaster'), ('N60939', 'Russia lands forces at former U.S. air base in northern Syria'), ('N50775', 'U.S. Troops Will Die If They Remain in Syria, Bashar Al-Assad Warns'), ('N7993', 'US teacher killed in Dominican Republic had dream to retire there: Family'), ('N63913', 'The Latest: Israel resumes strikes on Gaza after rocket fire')}, 'movies-gallery': {('N11930', 'The most talked about movie moments of the 2010s'), ('N27936', '50 Worst Movie Sequels of All Time'), ('N26488', '50 Best Movie Sequels of All Time'), ('N58656', \"'Charlie's Angels' stars: Where are they now?\")}, 'voices': {('N60724', \"I'm A Queer Woman Dating A Trans Man   & No One Knows\"), ('N48740', \"I've been writing about tiny homes for a year and finally spent 2 nights in a 300-foot home to see what it's all about   here's how it went\"), ('N27289', \"Why I'm Done Celebrating The Accomplishments Of Couples\"), ('N54277', \"'After I Could Only Fit Into Extended-Size Wedding Gowns, I Started Keto And Lost Over 100 Lbs. In 16 Months'\")}, 'finance-real-estate': {('N47576', \"10 reasons it's better to rent rather than buy a home\"), ('N61949', 'I used 3 strategies to save more than 50% on furniture for my new home'), ('N28413', 'How to Winterize a House'), ('N6074', 'This stately home is having the ultimate yard sale'), ('N5364', '19 Home Renovations That Give Owners the Most Joy'), ('N36786', '9 renovation tips to boost resale value')}, 'newsgoodnews': {('N14056', 'Boy uses his Make-A-Wish to get special space that other schoolchildren can use'), ('N6388', 'Female Thunderbird pilot inspiring others to chase their dreams'), ('N12446', \"Homeless woman living in SUV with dogs moves into apartment with community's help\"), ('N37233', 'Amari gets heroic birthday surprise'), ('N61053', \"Texas Dad Says Apple Watch Changed Autistic Son's Life\")}, 'tv-celebrity': {('N34130', \"The Kardashians Face Backlash Over 'Insensitive' Family Food Fight in KUWTK Clip\"), ('N49285', \"Pete Davidson, Kaia Gerber Are Dating, Trying to Stay 'Low Profile'\"), ('N46624', \"Camille Grammer Accuses Ex-Husband Kelsey Grammer of 'Rewriting History'\"), ('N12409', 'Joshua Jackson and Jodie Turner-Smith spark marriage speculation')}, 'weathertopstories': {('N51470', \"There's a place in the US where its been over 80 degrees since March\"), ('N31954', 'Methane emissions from coalmines could stoke climate crisis   study'), ('N61233', \"Nor'easter to grind at US East Coast this weekend\"), ('N5822', 'Firefighters battle house fire at Cypress area home'), ('N32536', 'High tides surge through Venice, locals rush to protect art')}, 'musicnews': {('N53572', \"Taylor Swift Rep Hits Back at Big Machine, Claims She's Actually Owed $7.9 Million in Unpaid Royalties\"), ('N36940', 'Taylor Swift Says Scooter Braun, Scott Borchetta Are Blocking Her From Playing Old Hits at AMAs')}, 'football_nfl': {('N63647', 'Maurkice Pouncey suspended three games'), ('N41817', 'Cleveland Browns waive troubled wide receiver Antonio Callaway; reportedly faces 10-game suspension'), ('N29379', \"Myles Garrett on attacking Mason Rudolph: 'I made a mistake, I lost my cool'\"), ('N21679', 'Belichick mocks social media in comments on Garrett incident'), ('N31958', 'Opinion: Colin Kaepernick is about to get what he deserves: a chance'), ('N1396', 'Garrett-Rudolph fight invokes memories of other helmet incidents, Cowboys involved'), ('N61567', 'Colin Kaepernick heads to Atlanta for workout'), ('N40094', 'Baker Mayfield quick to condemn teammate Myles Garrett for brawl, attack on Mason Rudolph'), ('N5472', \"Report: Police investigating woman's death after Redskins' player Montae Nicholson took her to hospital\"), ('N55405', \"It's not just the Browns vs. Steelers. NFL has memorable history of fighting on the gridiron\"), ('N9788', \"Darren Sproles ruled out for season, as another Eagles gamble on an older player doesn't pay off\"), ('N15347', 'Opinion: NFL had no choice but to send a clear message with Garrett punishment'), ('N60750', \"Browns, Steelers brawl at end of Cleveland's 21-7 win\"), ('N58540', 'Odell Beckham Jr. trolled Steelers coach Mike Tomlin with yawn celebration'), ('N58251', \"Some believe Mason Rudolph, hit in head with his own helmet, isn't getting enough blame\"), ('N25501', 'Bill Belichick addressed Myles Garrett incident with Patriots'), ('N41946', \"Opinion: NFL should suspend Browns' Myles Garrett for rest of season   at minimum   for helmet swing\"), ('N28682', \"Browns apologize to Mason Rudolph, call Myles Garrett's actions 'unacceptable'\"), ('N21484', \"Hue Jackson will run Colin Kaepernick's passing drills, 11 teams have said they'll attend\"), ('N25673', 'Wilson deletes tweet of him standing over concussed Smith-Schuster'), ('N23513', 'This was uglier than a brawl. And Myles Garrett deserves suspension for rest of year after helmet attack.'), ('N54606', '6 teams on upset alert in NFL Week 11')}, 'restaurantsandnews': {('N46279', 'We tried every single appetizer at Olive Garden and ranked them from worst to best'), ('N36186', '17 restaurants that will be open on Thanksgiving'), ('N55913', 'Your Guide to the Best Burger Spots in America'), ('N30290', \"The Real Reason McDonald's Keeps the Filet-O-Fish on Their Menu\"), ('N15817', \"Why Wendy's Is One of the the Few Fast-Food Chains with Baked Potatoes\")}, 'travelnews': {('N1952', 'Maze of tunnels reveals remains of ancient Jerusalem'), ('N22257', \"Southwest's Spring Travel Sale Includes $39 One-way Tickets\"), ('N65145', \"Greek donkeys are still being abused as 'tourist taxis,' PETA claims\"), ('N63421', \"Australia's Qantas operates 19 ½ hour London-Sydney flight\"), ('N8373', 'Video shows a Boeing 737 plane carrying 196 people burst into flames just after landing at an Egyptian airport')}, 'newspolitics': {('N52492', 'George Conway and Trump Jr. trade personal insults during impeachment hearing'), ('N64077', 'Roger Stone Is Convicted of Impeding Investigators in a Bid to Protect Trump'), ('N60244', 'Jordan Brings Pugnacious Style to Impeachment Defense of Trump'), ('N11681', \"Cellphone call from Ukraine could compound Trump's troubles\"), ('N37458', 'Besieged on all sides, Gordon Sondland clings to power'), ('N17228', \"Bill Clinton advises Trump to ignore impeachment: 'You got hired to do a job'\"), ('N32288', \"Read: Marie Yovanovitch's testimony at today's impeachment hearings\"), ('N41541', \"WH record of Trump's 1st call with Ukraine president differs from earlier description\"), ('N57225', 'Witness overheard US ambassador tell Trump that Ukraine would investigate Biden'), ('N13347', \"Trump: Impeachment has been 'very hard on my family'\"), ('N436', \"'A turning point in this hearing': Fox personalities speculate if Trump-Yovanovitch tweet could lead to witness intimidation charges\"), ('N52850', \"Schiff accuses Trump of 'witness intimidation'\"), ('N45612', \"Trump hammers Dems for impeachment focus at Louisiana rally: 'We did nothing wrong -- and they're doing nothing'\"), ('N40875', \"Trump defends Yovanovitch attack: 'I have freedom of speech'\"), ('N21681', \"4 takeaways from Marie Yovanovitch's testimony\"), ('N48659', 'Roger Stone found guilty on all 7 counts'), ('N26537', \"Pelosi ups the ante on impeachment, accuses Trump of 'bribery'\"), ('N12330', \"Pompeo 'on shifting sand' as impeachment probe reveals his role in Ukraine pressure campaign\"), ('N33297', 'Johnson opens door to subpoenaing whistleblower, Schiff, Bidens'), ('N29091', \"Federal Prosecutors Probe Giuliani's Links to Ukrainian Energy Projects\")}, 'autosmotorcycles': {('N37261', 'Top 5 Craziest Motorcycles From EICMA 2019')}, 'markets': {('N28716', 'Nurses face an epidemic of workplace violence'), ('N38235', 'Growth in global oil demand more than doubled in the third quarter, IEA reveals'), ('N50719', 'The most in-demand freelance jobs right now   and how to bag one'), ('N47572', \"A Trump Tax Break To Help The Poor Went To a Rich GOP Donor's Superyacht Marina\"), ('N13556', 'Treasury yields tick higher amid uncertainty over US-China trade deal')}, 'newsus': {('N46917', 'Judge agrees Alabama Islamic State recruit is not US citizen'), ('N42515', 'Trump admin preparing to take over private land for border wall'), ('N39298', 'Denver mayor pushed out sheriff, then created a $160,000 job for him'), ('N3972', 'Saugus High shooter turned 16, dressed in black, grabbed a weapon and opened fire on classmates'), ('N34641', 'Police look for motive behind California school shooting'), ('N55036', 'Why did Santa Clarita shooting happen? Detectives search for motive'), ('N36779', 'South Carolina teen gets life in prison for deadly elementary school shooting'), ('N3174', 'Drug trafficking through Venezuela has skyrocketed, says U.S. military chief'), ('N30699', 'California and nearly two dozen other states sue Trump administration for the right to set fuel-efficiency standards'), ('N61657', \"Arizona sheriff's deputy tackles 15-year-old boy with no arms or legs\"), ('N17672', \"'National tragedy': Surveillance, staffing under review after deaths at VA hospital\"), ('N24802', '3 Indiana judges suspended after a night of drinking turned into a White Castle brawl'), ('N56211', \"University of Florida student president faces impeachment for Trump Jr.'s $50K campus talk\"), ('N57328', 'Woman dies of heart attack on southern end of Blue Ridge Parkway'), ('N33176', 'Surviving Santa Clarita school shooting victims on road to recovery: Latest'), ('N30689', 'Protesters blare Christine Blasey Ford testimony and dress up as handmaids outside Kavanaugh speech'), ('N31632', 'Santa Clarita shooting: Unregistered guns found in home of Saugus suspect; motive a mystery')}, 'shop-holidays': {('N37352', 'The Hottest Tech Gifts This Holiday Season'), ('N20036', '30 Best Black Friday Deals from Costco'), ('N29862', '66 Cool Tech Gifts Anyone Would Be Thrilled to Receive'), ('N46892', \"19 Genius Gifts So Original, It's No Wonder They Were Featured on Shark Tank\")}, 'lifestylebuzz': {('N9047', \"Here's What 'Cultural Appropriation' Actually Means   and Why It's Wrong\"), ('N57327', \"Please Don't Yell at Your Dog!\"), ('N2960', 'Nine-year-old child genius to graduate from Dutch university'), ('N21654', 'The most affordable apartments for rent in Downtown Kansas City'), ('N48426', 'Why Teach Your Dog to Sit, When You Can Teach Them to Make a Sandwich Instead?'), ('N19990', 'Cows swept away by Hurricane Dorian found alive   but how?'), ('N61838', \"This 10-Year-Old Girl's Demanding Christmas Wish List Will Blow Your Mind\")}, 'more_sports': {('N6400', 'Former North Carolina State, NBA player Anthony Grundy dies in stabbing, police say')}, 'lifestylehomeandgarden': {('N18531', \"17 Biggest Holiday Dos and Don'ts for Your Home\"), ('N61754', '6 Ways You Can Unclog a Toilet Bowl Without a Plunger')}, 'recipes': {('N62365', \"The Unlikely Star of My Family's Thanksgiving Table\"), ('N30049', 'How to Make the Perfect Chocolate Chip Cookie')}, 'basketball_nba': {('N44687', 'Sixers have been more fortunate than good in wins | Off the Dribble'), ('N512', 'Bill Russell finally accepts Basketball Hall of Fame ring')}, 'quickandeasy': {('N58098', '85 Thanksgiving Recipes You Can Make Ahead')}, 'elections-2020-us': {('N8711', \"Bloomberg's Team Calls His Crude Remarks on Women 'Wrong'\"), ('N20764', \"Louisiana governor's race is the latest test of Trump's clout\")}, 'newscrime': {('N28640', \"Court puts hold on Rodney Reed's scheduled execution\"), ('N63415', 'Husband of missing woman arrested, booked on murder charges'), ('N57359', \"Washington police announce arrest of 'Potomac River rapist'\"), ('N11390', 'Police find 26 children behind false wall at Colorado day care'), ('N33397', '5 arrested in connection with deadly shooting at Airbnb Halloween party'), ('N5051', 'Kentucky woman charged in death of woman missing since May'), ('N14266', 'California man convicted of torture-murder dies on death row'), ('N49872', \"Rodney Reed's lawyers file to overturn conviction\"), ('N26811', 'Popeyes stabbing: Suspect arrested in fatal attack after waiting in line for sandwich'), ('N64095', 'Police searching park with bloodhounds for missing woman'), ('N16120', \"Stephanie Parze's Car Is at Home. So Is Her Phone. But She's Missing.\"), ('N62863', \"Police: 'Aggressive panhandler' shot, critically injured outside DeKalb cafe\"), ('N54593', \"Missing woman's husband arrested after carpet found soaked with blood, bleach\"), ('N37384', 'The Latest: Doctor accused of performing unneeded surgeries'), ('N48490', \"If you were shocked by Kodak Black's prison term, wait and see what comes next\")}, 'music-gallery': {('N43710', 'New and upcoming releases')}, 'humor': {('N61829', \"The 30 best shows of Comedy Central's 30 years\"), ('N35930', 'Chrissy Teigen Scares John Legend, Shares Her Favorite Response to His Sexiest Man Alive Title')}, 'medical': {('N1105', 'Types of cancer on the rise'), ('N18774', \"Doctors warn addiction of 'human Ken doll' has gotten dangerous\"), ('N38324', 'How to Get Rid of Skin Tags, According to a Dermatologist'), ('N53615', \"Here's What It Means If You Have Ridges on Your Nails\")}, 'cma-awards': {('N496', 'Fashion hits and misses from the 2019 Country Music Association Awards')}, 'wellness': {('N32237', 'Experts Explain Why You Might Want to Stop Sleeping on Your Stomach and How to Do It'), ('N48106', 'Your stretching intestine is what tells your brain to stop eating'), ('N59186', 'Teddi Mellencamp Gets Candid About Body Image In Before-And-After Weight Loss Photos')}, 'autosenthusiasts': {('N21297', \"I'd Choose This Rad Ford Edsel Camper Over a Motel Any Day\"), ('N19611', \"Ford v Ferrari: the forgotten car at the heart of the Le Mans '66 clash\"), ('N17807', 'The Coolest Car Lamborghini Never Made Is Up For Sale'), ('N35159', 'Morris Commercial Introduces Sentimental Electric Morris JE Van'), ('N52514', 'Mustang: all the wild and wonderful offshoots - US edition'), ('N52728', \"Wrecked Toyota Supra Launch Edition Didn't Even Reach 600 Miles\")}, 'lifestylecelebstyle': {('N60799', 'The Most Stunning Evening Gowns in Miss America History')}, 'health-news': {('N42767', \"FDA issues warning to Dollar Tree about selling 'potentially unsafe drugs'\"), ('N28072', \"He was a member of a boy band in the 90s. Now he's an ER doctor in Dallas\"), ('N37204', \"Model, 23, Didn't Know She Was Pregnant Until She Gave Birth to a Full-Term Baby in Her Bathroom\"), ('N35815', 'LASIK eye surgery should be taken off market, ex-FDA adviser says')}, 'football_nfl_videos': {('N31141', \"Pittsburgh Steelers quarterback Mason Rudolph on 'TNF' incident: 'I thought it was pretty cowardly'\"), ('N23336', 'Steelers vs. Browns highlights | Week 11')}, 'icehockey_nhl': {('N35676', \"Browns' Garrett isn't only athlete to use equipment to fight in game\")}, 'viral': {('N50895', 'Watch These Two Wingsuit Flyers Zoom Through A Cave Opening, Wowing Onlookers!'), ('N58748', 'Father-daughter first dance medley had every guest on their feet'), ('N62805', 'Daring rescue attempt when dog winds up on roof'), ('N7556', 'Golfer and girlfriend pull amazing trick shot'), ('N63342', \"Why 17-Year-Old Can't Get Out of Her Seatbelt\"), ('N34915', 'Metal detectorists discover haul of gold coins worth at least 100k')}, 'celebrity': {('N38311', 'Celebrity PDA of 2019'), ('N58264', 'Celebrity beach cruising for 2019'), ('N10083', \"Debunking the week's tabloid stories: Nov. 15, 2019\"), ('N6916', \"THEN AND NOW: What all your favorite '90s stars are doing today\"), ('N16344', \"Stars   They're Just Like Us!\")}, 'lifestylevideo': {('N7419', \"Why This Couple Is Getting a 'Sleep Divorce'\")}, 'newsscienceandtechnology': {('N64037', 'Supermassive black hole ejects star from Milky Way Galaxy'), ('N25256', \"'I'm not sure FedEx is going above and beyond' after Memphis hub death, attorney says\")}, 'video': {('N38294', \"Kelly Osbourne on Mom Sharon and Chrissy Teigen's Tiff: 'It's Okay If People Disagree'\")}, 'tvnews': {('N42844', 'Survivor Contestants Missy Byrd and Elizabeth Beisel Apologize For Their Actions'), ('N27737', \"Mo'Nique Files Race and Sex Discrimination Suit Against Netflix\"), ('N34185', \"Survivor Contestant Accused of 'Inappropriate Touching,' 2 Players Admit to Using Allegations to Win\")}, 'nutrition': {('N17242', 'Best Cancer-Fighting Drinks You Should Try Now'), ('N6950', 'I Overate at Dinner Until I Started Doing This 1 Simple Thing on Sundays (It Takes 10 Minutes!)'), ('N58848', 'What Chrissy Teigen Eats in a Day to Stay Fit and Glowing'), ('N4741', 'What Is Clean Fasting, and How Will It Help You Speed Up Weight Loss?')}, 'movienews': {('N55237', \"13 Reasons Why's Christian Navarro Slams Disney for Casting 'the White Guy' in The Little Mermaid\")}, 'traveltripideas': {('N45317', 'Aviation-Inspired Travel Experiences on the East and West Coast')}, 'travelarticle': {('N13337', 'The 32 most affordable winter vacation spots in the US')}, 'foodnews': {('N10993', \"Here's what comfort food looks like in 26 countries around the world\"), ('N33507', \"5 Things You Didn't Know About Campbell's Iconic Green Bean Casserole\"), ('N65027', 'Sky Bars are coming back to stores and classic candy fans are freaking out'), ('N7950', '10 most underrated food cities we explored in 2019'), ('N38404', \"Stromboli vs. Calzone: What's the Real Difference Between These Italian Favorites?\"), ('N42180', \"Wendy's Is Turning 50 Years Old, And Is Gifting Us With Free Food Through 2020\")}, 'golf': {('N47383', 'This is it, this is the luckiest break in the history of golf')}, 'animals': {('N23490', 'Meet Narwhal the Magical Unicorn Puppy'), ('N13729', \"Narwhal, the 'unicorn' puppy with tail on his face, reminds us it's OK to be different\"), ('N47854', 'Husky saves the day after sister gets stuck in onesie pajama')}, 'football_ncaa': {('N45340', 'From Temple to Baylor, Matt Rhule wins in hopeless places. His secret? People skills.'), ('N20477', 'Bold predictions for Week 12 in college football')}, 'basketball_ncaa': {('N16237', 'Will James Wiseman play for Memphis again? Explaining next steps in NCAA eligibility process')}, 'newsopinion': {('N47020', 'The News In Cartoons')}, 'tipsandtricks': {('N6432', 'The One Thing You Should Start Doing with Your Butter Wrapper'), ('N46976', 'How much turkey do you need to buy per person?'), ('N60975', 'How to Brine a Turkey & Why You Should'), ('N11417', 'This Is the Easiest Baking Soda Substitute Ever'), ('N47781', 'Rutabaga vs. Turnip: How to Tell the Difference Between These Yummy Vegetables')}, 'finance-companies': {('N53283', \"The world's most profitable company is about to go public\"), ('N2307', \"NASA Faulted for 'Unnecessary' $287.2 Million Boeing Payment\"), ('N3168', 'How Google Interferes With Its Search Algorithms and Changes Your Results'), ('N2852', \"The world's only $100 billion utility owes its rise to wind power\"), ('N54562', \"Bill Gates tops Jeff Bezos as world's richest person with Amazon slide\"), ('N21077', 'Sears is laying off hundreds of corporate employees after announcing 96 store closings'), ('N30465', 'FDA Poised to Drop the Hammer on Dollar Tree')}, 'news': {('N9407', \"'Holy cow': Jim Jordan and Adam Schiff share heated exchange at impeachment hearing\")}, 'finance-taxes': {('N13408', \"Raise Billions From Billionaires? Tax Experts Say It's Not That Simple\")}, 'autosnews': {('N46162', \"12 Cars Lose Consumer Reports' Recommendation Over Reliability Issues\"), ('N7618', 'Ford v Ferrari: the real story')}, 'traveltips': {('N61697', \"Here's how much and who you should be tipping at American hotels\")}, 'personalfinance': {('N4733', \"Why you're not rich: A financial therapist explains the mindset standing between you and your money goals\"), ('N45319', \"Billionaires' success boils down to 3 simple traits, a new report says\")}, 'weightloss': {('N62949', 'The 15 Best Breakfast Habits to Drop 10 Pounds')}, 'entertainment-celebrity': {('N24109', 'Demi Lovato debuts new boyfriend, plus more celeb love life news for mid-November 2019'), ('N48487', \"The latest on Brad Pitt and Angelina Jolie's post-split relationship, plus more news\")}, 'tvvideos': {('N17031', 'Lamar Odom is Engaged to Girlfriend Sabrina Parr -- See Her Stunning Ring!')}, 'outdoors': {('N9276', 'Sailing the San Juan Islands')}, 'music-celebrity': {('N26485', 'Camila Cabello Explains the Sweet Meaning Behind Her First Tattoo'), ('N41934', 'Aaron Carter admitted to Florida hospital'), ('N59602', \"Selena Gomez Stands Up for Taylor Swift Amid Her Music Battle: 'It's Greed, Manipulation and Power'\")}, 'baseball_mlb': {('N53031', 'Plouffe becomes latest ex-MLBer to implicate Astros in sign-stealing'), ('N759', '7 possible landing spots for Anthony Rendon')}, 'autosclassics': {('N60215', \"Pair Of 'New' 1987 Buick Grand Nationals Pulled From Garage After 30 Years\")}, 'lifestylepetsanimals': {('N60675', '60 of the Most Adorable Animal Pictures That Will Make You Say \"Awww\"')}, 'finance-retirement': {('N29393', 'Supporting your adult children can ruin your retirement plans')}, 'autossports': {('N13573', 'First Drive! Steeda transforms the Bullitt from leading man to action hero with the Steve McQueen Edition')}, 'popculture': {('N38901', \"Epic 'Jeopardy!' rematch gets off to a hot start\")}, 'lifestyle': {('N20437', 'The Royal Family of Jaipur Just Listed Their Palace on Airbnb for $8,000 a Night')}, 'science': {('N53242', 'How to Watch the Leonid Meteor Shower This Weekend')}, 'movies-celebrity': {('N39393', \"Christopher Reeve's Son Remembers Dad 15 Years After His Death: His Legacy 'Will Always Live On'\")}, 'tv-gallery': {('N37793', \"Actresses who've played Queen Elizabeth II\")}})\n"
     ]
    }
   ],
   "source": [
    "from collections import defaultdict\n",
    "subcate_news_dict = defaultdict(set)\n",
    "\n",
    "Category_dict = defaultdict(set)\n",
    "Category_list = set()\n",
    "for impressionList in user_sampled['Impression News']:\n",
    "  impressionList = impressionList.split(' ')\n",
    "  for impression in impressionList:\n",
    "    newsID, label = impression.split('-')\n",
    "    cate_name = df[df['NewsID'] == newsID]['Category'].iloc[0]\n",
    "    subcate_name = df[df['NewsID'] == newsID]['Subcategory'].iloc[0]\n",
    "    Category_dict[cate_name].add(subcate_name)\n",
    "    Category_list.add(cate_name)\n",
    "\n",
    "    if label == '1':\n",
    "      newsTitle = df[df['NewsID'] == newsID]['NewsTitle'].iloc[0]\n",
    "      subcate_news_dict[subcate_name].add((newsID, newsTitle))\n",
    "\n",
    "print(subcate_news_dict)\n",
    "Category_list = list(Category_list)\n",
    "\n",
    "for impressionList in user_sampled['Impression News']:\n",
    "  impressionList = impressionList.split(' ')\n",
    "  for impression in impressionList:\n",
    "    newsID, label = impression.split('-')\n",
    "    if label == '1':\n",
    "      continue\n",
    "    subcate_name = df[df['NewsID'] == newsID]['Subcategory'].iloc[0]\n",
    "    newsTitle = df[df['NewsID'] == newsID]['NewsTitle'].iloc[0]\n",
    "    if len(subcate_news_dict[subcate_name]) < 50:\n",
    "      subcate_news_dict[subcate_name].add((newsID, newsTitle))"
   ]
  },
  {
   "cell_type": "code",
   "execution_count": 17,
   "metadata": {
    "id": "R74CW4RH_wqX",
    "ExecuteTime": {
     "end_time": "2023-12-12T15:25:42.653138800Z",
     "start_time": "2023-12-12T15:25:42.620933500Z"
    }
   },
   "outputs": [],
   "source": [
    "# prompt constructor\n",
    "\n",
    "\n",
    "def prompt_interest_generate(news_list):\n",
    "  # stage 1 input\n",
    "  prompt = \"A user's click news are:\\n\" + '\\n'.join(news_list)\n",
    "  prompt += \"\\nSummarize the interested topics, from the most important to the least important.\"\n",
    "  return prompt\n",
    "\n",
    "\n",
    "def prompt_category_selection(category_list):\n",
    "  # stage 2\n",
    "  message = \"Select some topic categories based on the user's interest from the provided list\"\n",
    "  message += \" from the most important to the least important without explanation:\"\n",
    "  message = message + ','.join(category_list)\n",
    "  message += '.'\n",
    "  return message\n",
    "\n",
    "def build_prompt_subcategory(category_list, category_dict):\n",
    "  # stage 3\n",
    "  # version 1\n",
    "  prompt = \"Provide a ranked list of top 10 subcategories based on the user's interest from the provided list, without offering any explanations.\"\n",
    "  prompt += \"Please do not change the format of titles during the output process. \"\n",
    "  prompt += \"Here is the category and subcategory list:\\n\"\n",
    "\n",
    "  i = 0\n",
    "  for cate in category_list:\n",
    "    for subcate in category_dict[cate.lower()]:\n",
    "      i += 1\n",
    "      prompt += \"{}. {}\\n\".format(i, subcate)\n",
    "    # prompt += ''.join(category_dict[cate.lower()])\n",
    "\n",
    "  prompt += \"\\n\"\n",
    "  return prompt\n",
    "\n",
    "def build_prompt_TopKNews(subcategory, k, news_dict):\n",
    "  # stage 4\n",
    "  prompt_TopKNews = \"Select top {} news based on the user's interest from the following candidate news about {} \".format(k, subcategory)\n",
    "  prompt_TopKNews += \" without explanation.\"\n",
    "  prompt_TopKNews += \"Please do not change the format of titles during the output process. \"\n",
    "  prompt_TopKNews += \"Here is the news list:\\n\"\n",
    "\n",
    "  news_list = news_dict[subcategory]\n",
    "\n",
    "  i = 0\n",
    "  for ID, title in news_list:\n",
    "    prompt_TopKNews += \"{}. {}\\n\".format(i+1, title)\n",
    "    i += 1\n",
    "      \n",
    "  return prompt_TopKNews\n",
    "\n",
    "def build_prompt_rerank(newstitlelist):\n",
    "  # stage 5\n",
    "  prompt_rerank = \"Rank these pre-selected news based on the degree of recommendation to the user. Be aware of ranking diversity.\\n\"\n",
    "  index = 1\n",
    "  for subcate, newslist in newstitlelist:\n",
    "    for news in newslist:\n",
    "      prompt_rerank += \"{}: {}\\n\".format(index, news)\n",
    "      index += 1\n",
    "\n",
    "  return prompt_rerank"
   ]
  },
  {
   "cell_type": "code",
   "execution_count": 18,
   "metadata": {
    "id": "_0copW6BB5Ko",
    "ExecuteTime": {
     "end_time": "2023-12-12T15:25:43.784217200Z",
     "start_time": "2023-12-12T15:25:43.755390Z"
    }
   },
   "outputs": [],
   "source": [
    "def print_log_info(info, f):\n",
    "  print(\"################################\", file=f)\n",
    "  print(info, file=f)\n",
    "  print(\"################################\", file=f)"
   ]
  },
  {
   "cell_type": "code",
   "execution_count": 19,
   "metadata": {
    "id": "O1aF4pr3H1yP",
    "ExecuteTime": {
     "end_time": "2023-12-12T15:25:44.232129500Z",
     "start_time": "2023-12-12T15:25:44.216448300Z"
    }
   },
   "outputs": [],
   "source": [
    "def get_cate(response):\n",
    "  import re\n",
    "  line_list = response.split('\\n')\n",
    "  cate_list = []\n",
    "  if len(line_list) == 1:\n",
    "    cate_list = line_list[0].split(',')\n",
    "    cate_list = [c.replace(\" \", \"\").lower() for c in cate_list]\n",
    "    return cate_list\n",
    "\n",
    "  for line in line_list:\n",
    "    if len(line) > 1 and line[0].isdigit():\n",
    "      cate_name = line[line.find('.')+1:].replace(\"-\", \"\").replace(\":\", \"\").replace(\" \", \"\")\n",
    "      cate_list.append(cate_name.lower())\n",
    "\n",
    "  return cate_list"
   ]
  },
  {
   "cell_type": "code",
   "execution_count": 20,
   "metadata": {
    "id": "kp2s1QUkfWz_",
    "ExecuteTime": {
     "end_time": "2023-12-12T15:25:44.708600700Z",
     "start_time": "2023-12-12T15:25:44.702068900Z"
    }
   },
   "outputs": [],
   "source": [
    "def get_news_title(message):\n",
    "  # define for stage 4\n",
    "  news_title_list = []\n",
    "  for line in message.split('\\n'):\n",
    "    l = line.strip()\n",
    "    if l == '' or not l[0].isdigit():\n",
    "      continue\n",
    "    news_title = l[l.find('.')+1:].strip()\n",
    "    news_title_list.append(news_title)\n",
    "  return news_title_list\n"
   ]
  },
  {
   "cell_type": "code",
   "execution_count": 21,
   "metadata": {
    "id": "wQ0gd5jA8nGj",
    "ExecuteTime": {
     "end_time": "2023-12-12T15:25:45.664391500Z",
     "start_time": "2023-12-12T15:25:45.648735Z"
    }
   },
   "outputs": [],
   "source": [
    "def get_subcate(response, subcate_list):\n",
    "  # define for stage 4\n",
    "  import difflib\n",
    "  import re\n",
    "  line_list = response.split('\\n')\n",
    "  subcate_list = []\n",
    "  for line in line_list:\n",
    "    if len(line) > 1 and line[0].isdigit():\n",
    "      subcate_name = line[line.find('.')+1:].replace(\"-\", \"\").replace(\":\", \"\").replace(\" \", \"\")\n",
    "      subcate_name = subcate_name.replace(\" \", \"\").replace(\"-\", \"\")\n",
    "      subcate_name = subcate_name.replace(\"(\", \"\").replace(\")\", \"\")\n",
    "      subcate_list.append(subcate_name.lower())\n",
    "\n",
    "  return subcate_list"
   ]
  },
  {
   "cell_type": "code",
   "execution_count": 22,
   "metadata": {
    "id": "rZMmJXFIxKXL",
    "ExecuteTime": {
     "end_time": "2023-12-12T15:25:46.537345100Z",
     "start_time": "2023-12-12T15:25:46.514783100Z"
    }
   },
   "outputs": [],
   "source": [
    "def get_pos_news(user_id, user_history):\n",
    "  # Evaluation\n",
    "  user_impression = user_history[user_history[\"User ID\"] == user_id][\"Impression News\"]\n",
    "  user_impression = list(user_impression)\n",
    "  user_pos_news = set()\n",
    "  for impression in user_impression:\n",
    "    item_list = impression.split(' ')\n",
    "\n",
    "    for item in item_list:\n",
    "      newsid, label = item.split('-')\n",
    "      if label == '1':\n",
    "        user_pos_news.add(df[df[\"NewsID\"] == newsid][\"NewsTitle\"].iloc[0])\n",
    "\n",
    "  return user_pos_news"
   ]
  },
  {
   "cell_type": "code",
   "execution_count": 32,
   "outputs": [
    {
     "name": "stdout",
     "output_type": "stream",
     "text": [
      "Requirement already satisfied: openai==0.27 in c:\\users\\sdsc\\anaconda3\\envs\\tfgpu\\lib\\site-packages (0.27.0)\n",
      "Requirement already satisfied: requests>=2.20 in c:\\users\\sdsc\\anaconda3\\envs\\tfgpu\\lib\\site-packages (from openai==0.27) (2.31.0)\n",
      "Requirement already satisfied: tqdm in c:\\users\\sdsc\\anaconda3\\envs\\tfgpu\\lib\\site-packages (from openai==0.27) (4.66.1)\n",
      "Requirement already satisfied: aiohttp in c:\\users\\sdsc\\anaconda3\\envs\\tfgpu\\lib\\site-packages (from openai==0.27) (3.8.5)\n",
      "Requirement already satisfied: charset-normalizer<4,>=2 in c:\\users\\sdsc\\anaconda3\\envs\\tfgpu\\lib\\site-packages (from requests>=2.20->openai==0.27) (2.0.4)\n",
      "Requirement already satisfied: idna<4,>=2.5 in c:\\users\\sdsc\\anaconda3\\envs\\tfgpu\\lib\\site-packages (from requests>=2.20->openai==0.27) (3.4)\n",
      "Requirement already satisfied: urllib3<3,>=1.21.1 in c:\\users\\sdsc\\anaconda3\\envs\\tfgpu\\lib\\site-packages (from requests>=2.20->openai==0.27) (1.26.16)\n",
      "Requirement already satisfied: certifi>=2017.4.17 in c:\\users\\sdsc\\anaconda3\\envs\\tfgpu\\lib\\site-packages (from requests>=2.20->openai==0.27) (2023.7.22)\n",
      "Requirement already satisfied: attrs>=17.3.0 in c:\\users\\sdsc\\anaconda3\\envs\\tfgpu\\lib\\site-packages (from aiohttp->openai==0.27) (22.1.0)\n",
      "Requirement already satisfied: multidict<7.0,>=4.5 in c:\\users\\sdsc\\anaconda3\\envs\\tfgpu\\lib\\site-packages (from aiohttp->openai==0.27) (6.0.4)\n",
      "Requirement already satisfied: async-timeout<5.0,>=4.0.0a3 in c:\\users\\sdsc\\anaconda3\\envs\\tfgpu\\lib\\site-packages (from aiohttp->openai==0.27) (4.0.3)\n",
      "Requirement already satisfied: yarl<2.0,>=1.0 in c:\\users\\sdsc\\anaconda3\\envs\\tfgpu\\lib\\site-packages (from aiohttp->openai==0.27) (1.9.2)\n",
      "Requirement already satisfied: frozenlist>=1.1.1 in c:\\users\\sdsc\\anaconda3\\envs\\tfgpu\\lib\\site-packages (from aiohttp->openai==0.27) (1.4.0)\n",
      "Requirement already satisfied: aiosignal>=1.1.2 in c:\\users\\sdsc\\anaconda3\\envs\\tfgpu\\lib\\site-packages (from aiohttp->openai==0.27) (1.3.1)\n",
      "Requirement already satisfied: colorama in c:\\users\\sdsc\\anaconda3\\envs\\tfgpu\\lib\\site-packages (from tqdm->openai==0.27) (0.4.6)\n"
     ]
    }
   ],
   "source": [
    "  # ChatGPT API\n",
    "\n",
    "!pip install openai==0.27\n",
    "import random\n",
    "import time\n",
    "import openai\n",
    "import os\n",
    "\n",
    "\n",
    "class Conversation:\n",
    "    def __init__(self, prompt, num_of_round):\n",
    "        self.prompt = prompt\n",
    "        self.num_of_round = num_of_round\n",
    "        self.messages = []\n",
    "        self.messages.append({\"role\": \"system\", \"content\": self.prompt})\n",
    "        self.key_index = 0\n",
    "        self.key_list = [\"CHATGPT_API_KEYS\"]\n",
    "        self.key_list_len = len(self.key_list)\n",
    "\n",
    "    def get_api_key(self):\n",
    "        api_key = self.key_list[self.key_index]\n",
    "        self.key_index += 1\n",
    "        self.key_index %= self.key_list_len\n",
    "        return api_key\n",
    "\n",
    "    def initialize_openai_client(self, api_key):\n",
    "        openai.api_key = api_key\n",
    "\n",
    "    def ask(self, question):\n",
    "        try:\n",
    "            self.messages.append({\"role\": \"user\", \"content\": question})\n",
    "            response = openai.ChatCompletion.create(\n",
    "              model=\"gpt-3.5-turbo\",\n",
    "              messages=self.messages,\n",
    "              temperature=0.5,\n",
    "              max_tokens=1024,\n",
    "              top_p=1,\n",
    "            )\n",
    "        except Exception as e:\n",
    "            return e\n",
    "\n",
    "        message = response[\"choices\"][0][\"message\"][\"content\"]\n",
    "        self.messages.append({\"role\": \"assistant\", \"content\": message})\n",
    "\n",
    "        return message\n",
    "\n",
    "    def remain_fisrtKRound(self, k):\n",
    "        self.messages = self.messages[:1+2*k]\n",
    "\n",
    "    def remain_firstKReponse(self, k):\n",
    "        temp_list = []\n",
    "        for msg in self.messages:\n",
    "            if msg[\"role\"] == \"assistant\":\n",
    "                temp_list.append(msg)\n",
    "\n",
    "        if len(temp_list) > k:\n",
    "           temp_list = temp_list[:k]\n",
    "\n",
    "        self.messages = temp_list\n",
    "\n",
    "    def call_chatgpt(self, question, round, max_attempts=None):\n",
    "        self.remain_fisrtKRound(round-1)\n",
    "        if max_attempts == None:\n",
    "            max_attempts = self.key_list_len\n",
    "        for _ in range(max_attempts):\n",
    "            api_key = self.get_api_key()\n",
    "            self.initialize_openai_client(api_key)\n",
    "            try:\n",
    "                self.messages.append({\"role\": \"user\", \"content\": question})\n",
    "                response = openai.ChatCompletion.create(\n",
    "                    model=\"gpt-3.5-turbo\",\n",
    "                    messages=self.messages,\n",
    "                    temperature=0.5,\n",
    "                    max_tokens=1024,\n",
    "                    top_p=1\n",
    "                )\n",
    "                message = response[\"choices\"][0][\"message\"][\"content\"]\n",
    "                self.messages.append({\"role\": \"assistant\", \"content\": message})\n",
    "        \n",
    "                if response.choices:\n",
    "                    return message\n",
    "        \n",
    "            except (openai.error.RateLimitError, openai.error.AuthenticationError) as e:\n",
    "                # print(f\"API Error: {e}\")\n",
    "                self.remain_fisrtKRound[round-1]\n",
    "                time.sleep(20)  \n",
    "                continue\n",
    "        \n",
    "            except Exception as e:\n",
    "                print(f\"Unknown Error: {e}\")\n",
    "                continue\n",
    "        return None"
   ],
   "metadata": {
    "collapsed": false,
    "ExecuteTime": {
     "end_time": "2023-12-12T15:48:28.077002600Z",
     "start_time": "2023-12-12T15:48:25.664137100Z"
    }
   }
  },
  {
   "cell_type": "code",
   "execution_count": 33,
   "outputs": [],
   "source": [
    "def get_answer_list(message):\n",
    "    lines = message.split('\\n')\n",
    "    cate_list = []\n",
    "    for l in lines:\n",
    "        if len(l) == 0:\n",
    "            continue\n",
    "        if l[0].isdigit():\n",
    "            cate_name = l[l.find('.')+1:].strip()\n",
    "            cate_list.append(cate_name)\n",
    "\n",
    "    return cate_list"
   ],
   "metadata": {
    "collapsed": false,
    "ExecuteTime": {
     "end_time": "2023-12-12T15:48:28.124407200Z",
     "start_time": "2023-12-12T15:48:28.077002600Z"
    }
   }
  },
  {
   "cell_type": "code",
   "execution_count": null,
   "outputs": [],
   "source": [
    "import sys\n",
    "import time\n",
    "import math\n",
    "\n",
    "first_level_k = 5\n",
    "second_level_k = 5\n",
    "recall_total = 0\n",
    "recall_num = 20\n",
    "sleep_time = 20\n",
    "recall_subset = 4\n",
    "Log_file = \"MINDKLog.txt\" \n",
    "\n",
    "with open(Log_file, \"w\", encoding='utf-8') as f:\n",
    "  for index, row in user_sampled.iterrows():\n",
    "    user_ID = row[\"User ID\"]\n",
    "  \n",
    "    newsIDList = user_behavior[user_behavior[\"User ID\"] == user_ID][\"User Click History\"].iloc[0].split(' ')\n",
    "    newsIDList = newsIDList[-50:]\n",
    "    newsList = []\n",
    "    for newsID in newsIDList:\n",
    "      newsList.append(df[df['NewsID'] == newsID]['NewsTitle'].iloc[0])\n",
    "  \n",
    "    print(\"User ID:\", user_ID, file=f)\n",
    "    # STAGE 1\n",
    "    # print(\"Stage 1\")\n",
    "    \n",
    "    print_log_info(\"Stage 1\", f)\n",
    "    conversation = Conversation(\"\", 30)\n",
    "    prompt = prompt_interest_generate(newsList)\n",
    "    print(\"USER:\", file=f)\n",
    "    print(prompt, file=f)\n",
    "    \n",
    "    response = conversation.call_chatgpt(prompt, 1)\n",
    "  \n",
    "    print(\"CHATGPT:\", file=f)\n",
    "    print(response, file=f)\n",
    "  \n",
    "    # STAGE 2\n",
    "    \n",
    "    # print(\"Stage 2\")\n",
    "    \n",
    "    print_log_info(\"Stage 2\", f)\n",
    "    prompt = prompt_category_selection(Category_list)\n",
    "    print(\"USER:\", file=f)\n",
    "    print(prompt, file=f)\n",
    "  \n",
    "    response_2 = conversation.call_chatgpt(prompt, 2)\n",
    "    print(\"CHATGPT:\", file=f)\n",
    "    print(response_2, file=f)\n",
    "  \n",
    "    # STAGE 3\n",
    "    print_log_info(\"Stage 3\", f)\n",
    "    cate_list = get_cate(response_2)\n",
    "  \n",
    "    cate_select = cate_list[:first_level_k]\n",
    "    prompt_3 = build_prompt_subcategory(cate_select, Category_dict)\n",
    "    response_3 = conversation.call_chatgpt(prompt_3, 2)\n",
    "    subcate_list = get_subcate(response_3, subcate_news_dict.keys())\n",
    "    print(\"USER:\", file=f)\n",
    "    print(prompt_3, file=f)    \n",
    "    print(\"CHATGPT:\", file=f)\n",
    "    print(response_3, file=f)\n",
    "  \n",
    "    # STAGE 4\n",
    "    \n",
    "    print_log_info(\"Stage 4\", f)\n",
    "  \n",
    "    recall_news_title = []\n",
    "    recall_num = 20\n",
    "    sleep_time = 20\n",
    "  \n",
    "    temp = 0\n",
    "    cnt = 0\n",
    "    for subcate in subcate_list:\n",
    "      if len(subcate_news_dict[subcate]) == 0:\n",
    "        continue\n",
    "  \n",
    "      num = recall_subset\n",
    "      if num > len(subcate_news_dict[subcate]):\n",
    "        num = len(subcate_news_dict[subcate])\n",
    "  \n",
    "      temp += num\n",
    "      prompt = build_prompt_TopKNews(subcate, num, subcate_news_dict)\n",
    "      print(\"USER:\", file=f)\n",
    "      print(prompt, file=f)\n",
    "\n",
    "      message = conversation.call_chatgpt(prompt, 2)\n",
    "  \n",
    "      print(\"ChatGPT:\", file=f)\n",
    "      print(message, file=f)\n",
    "      recall_news_title.append((subcate, get_news_title(message)))\n",
    "  \n",
    "    # STAGE 5\n",
    "    print_log_info(\"Stage 5\", f)\n",
    "    prompt = build_prompt_rerank(recall_news_title)\n",
    "    print(\"USER:\", f)\n",
    "    print(prompt, file=f)\n",
    "    message = conversation.call_chatgpt(prompt, 2)\n",
    "    print(\"CHATGPT:\", file=f)\n",
    "    print(message, file=f)\n",
    "    rerank_news = get_answer_list(message)\n",
    "  \n",
    "    # EVALUATION\n",
    "    print_log_info(\"Evaluation\", f)\n",
    "    user_pos_news = get_pos_news(user_ID, user_behavior)\n",
    "    recall_pos = 0\n",
    "    import difflib\n",
    "    for subcate, l in recall_news_title:\n",
    "      for news in l:\n",
    "        news_match = \"\"\n",
    "        for item_match in difflib.get_close_matches(news, user_pos_news, cutoff=0.8):\n",
    "          news_match = item_match\n",
    "          break\n",
    "  \n",
    "        if news_match != \"\":\n",
    "          recall_pos += 1\n",
    "        ###\n",
    "  \n",
    "    print(\"\\nRecall: {}\\n\".format(recall_pos / len(user_pos_news)), file=f)\n",
    "    print(\"################################\", file=f)"
   ],
   "metadata": {
    "collapsed": false
   }
  }
 ],
 "metadata": {
  "colab": {
   "provenance": []
  },
  "kernelspec": {
   "name": "python3",
   "language": "python",
   "display_name": "Python 3 (ipykernel)"
  },
  "language_info": {
   "name": "python"
  }
 },
 "nbformat": 4,
 "nbformat_minor": 0
}
